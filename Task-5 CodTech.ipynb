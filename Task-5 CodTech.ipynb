{
 "cells": [
  {
   "cell_type": "markdown",
   "id": "2710a0e7",
   "metadata": {},
   "source": [
    "# Installing package"
   ]
  },
  {
   "cell_type": "code",
   "execution_count": 1,
   "id": "36debdae",
   "metadata": {},
   "outputs": [
    {
     "name": "stdout",
     "output_type": "stream",
     "text": [
      "Requirement already satisfied: pyttsx3 in c:\\users\\91939\\anaconda3\\lib\\site-packages (2.90)\n",
      "Requirement already satisfied: comtypes in c:\\users\\91939\\anaconda3\\lib\\site-packages (from pyttsx3) (1.4.5)\n",
      "Requirement already satisfied: pypiwin32 in c:\\users\\91939\\anaconda3\\lib\\site-packages (from pyttsx3) (223)\n",
      "Requirement already satisfied: pywin32 in c:\\users\\91939\\anaconda3\\lib\\site-packages (from pyttsx3) (305.1)\n",
      "Note: you may need to restart the kernel to use updated packages.\n"
     ]
    }
   ],
   "source": [
    "pip install pyttsx3"
   ]
  },
  {
   "cell_type": "markdown",
   "id": "f5fbbec8",
   "metadata": {},
   "source": [
    "# Importing Libraries"
   ]
  },
  {
   "cell_type": "code",
   "execution_count": 1,
   "id": "068cb350",
   "metadata": {},
   "outputs": [],
   "source": [
    "import pyttsx3 "
   ]
  },
  {
   "cell_type": "markdown",
   "id": "36b582a2",
   "metadata": {},
   "source": [
    "# Initialize Text-to-speech engine "
   ]
  },
  {
   "cell_type": "code",
   "execution_count": 2,
   "id": "fcfac299",
   "metadata": {},
   "outputs": [],
   "source": [
    "engine = pyttsx3.init() "
   ]
  },
  {
   "cell_type": "markdown",
   "id": "1a16a377",
   "metadata": {},
   "source": [
    "# Convert this text to speech"
   ]
  },
  {
   "cell_type": "code",
   "execution_count": null,
   "id": "d2c7d3af",
   "metadata": {},
   "outputs": [],
   "source": [
    "text = input(\"Enter any text:\") \n",
    "engine.say(text) "
   ]
  },
  {
   "cell_type": "markdown",
   "id": "45e1e2ee",
   "metadata": {},
   "source": [
    "# Play the speech "
   ]
  },
  {
   "cell_type": "code",
   "execution_count": null,
   "id": "655cc643",
   "metadata": {},
   "outputs": [],
   "source": [
    "engine.runAndWait()"
   ]
  },
  {
   "cell_type": "code",
   "execution_count": null,
   "id": "b63ecc9f",
   "metadata": {},
   "outputs": [],
   "source": []
  }
 ],
 "metadata": {
  "kernelspec": {
   "display_name": "Python 3 (ipykernel)",
   "language": "python",
   "name": "python3"
  },
  "language_info": {
   "codemirror_mode": {
    "name": "ipython",
    "version": 3
   },
   "file_extension": ".py",
   "mimetype": "text/x-python",
   "name": "python",
   "nbconvert_exporter": "python",
   "pygments_lexer": "ipython3",
   "version": "3.11.5"
  }
 },
 "nbformat": 4,
 "nbformat_minor": 5
}
